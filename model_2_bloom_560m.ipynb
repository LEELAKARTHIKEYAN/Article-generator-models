{
  "nbformat": 4,
  "nbformat_minor": 0,
  "metadata": {
    "colab": {
      "provenance": [],
      "gpuType": "T4"
    },
    "kernelspec": {
      "name": "python3",
      "display_name": "Python 3"
    },
    "language_info": {
      "name": "python"
    },
    "accelerator": "GPU"
  },
  "cells": [
    {
      "cell_type": "markdown",
      "source": [
        "# **Bloom-560m**"
      ],
      "metadata": {
        "id": "rq149D5IRETw"
      }
    },
    {
      "cell_type": "code",
      "source": [
        "!pip install transformers torch textstat language-tool-python"
      ],
      "metadata": {
        "colab": {
          "base_uri": "https://localhost:8080/"
        },
        "id": "NGtTOByDH7q4",
        "outputId": "0c08ec3b-c934-462e-c478-6f8ad4fa969f"
      },
      "execution_count": 1,
      "outputs": [
        {
          "output_type": "stream",
          "name": "stdout",
          "text": [
            "Requirement already satisfied: transformers in /usr/local/lib/python3.10/dist-packages (4.46.2)\n",
            "Requirement already satisfied: torch in /usr/local/lib/python3.10/dist-packages (2.5.1+cu121)\n",
            "Collecting textstat\n",
            "  Downloading textstat-0.7.4-py3-none-any.whl.metadata (14 kB)\n",
            "Collecting language-tool-python\n",
            "  Downloading language_tool_python-2.8.1-py3-none-any.whl.metadata (12 kB)\n",
            "Requirement already satisfied: filelock in /usr/local/lib/python3.10/dist-packages (from transformers) (3.16.1)\n",
            "Requirement already satisfied: huggingface-hub<1.0,>=0.23.2 in /usr/local/lib/python3.10/dist-packages (from transformers) (0.26.2)\n",
            "Requirement already satisfied: numpy>=1.17 in /usr/local/lib/python3.10/dist-packages (from transformers) (1.26.4)\n",
            "Requirement already satisfied: packaging>=20.0 in /usr/local/lib/python3.10/dist-packages (from transformers) (24.2)\n",
            "Requirement already satisfied: pyyaml>=5.1 in /usr/local/lib/python3.10/dist-packages (from transformers) (6.0.2)\n",
            "Requirement already satisfied: regex!=2019.12.17 in /usr/local/lib/python3.10/dist-packages (from transformers) (2024.9.11)\n",
            "Requirement already satisfied: requests in /usr/local/lib/python3.10/dist-packages (from transformers) (2.32.3)\n",
            "Requirement already satisfied: safetensors>=0.4.1 in /usr/local/lib/python3.10/dist-packages (from transformers) (0.4.5)\n",
            "Requirement already satisfied: tokenizers<0.21,>=0.20 in /usr/local/lib/python3.10/dist-packages (from transformers) (0.20.3)\n",
            "Requirement already satisfied: tqdm>=4.27 in /usr/local/lib/python3.10/dist-packages (from transformers) (4.66.6)\n",
            "Requirement already satisfied: typing-extensions>=4.8.0 in /usr/local/lib/python3.10/dist-packages (from torch) (4.12.2)\n",
            "Requirement already satisfied: networkx in /usr/local/lib/python3.10/dist-packages (from torch) (3.4.2)\n",
            "Requirement already satisfied: jinja2 in /usr/local/lib/python3.10/dist-packages (from torch) (3.1.4)\n",
            "Requirement already satisfied: fsspec in /usr/local/lib/python3.10/dist-packages (from torch) (2024.10.0)\n",
            "Requirement already satisfied: sympy==1.13.1 in /usr/local/lib/python3.10/dist-packages (from torch) (1.13.1)\n",
            "Requirement already satisfied: mpmath<1.4,>=1.1.0 in /usr/local/lib/python3.10/dist-packages (from sympy==1.13.1->torch) (1.3.0)\n",
            "Collecting pyphen (from textstat)\n",
            "  Downloading pyphen-0.17.0-py3-none-any.whl.metadata (3.2 kB)\n",
            "Requirement already satisfied: setuptools in /usr/local/lib/python3.10/dist-packages (from textstat) (75.1.0)\n",
            "Requirement already satisfied: pip in /usr/local/lib/python3.10/dist-packages (from language-tool-python) (24.1.2)\n",
            "Requirement already satisfied: wheel in /usr/local/lib/python3.10/dist-packages (from language-tool-python) (0.45.0)\n",
            "Requirement already satisfied: MarkupSafe>=2.0 in /usr/local/lib/python3.10/dist-packages (from jinja2->torch) (3.0.2)\n",
            "Requirement already satisfied: charset-normalizer<4,>=2 in /usr/local/lib/python3.10/dist-packages (from requests->transformers) (3.4.0)\n",
            "Requirement already satisfied: idna<4,>=2.5 in /usr/local/lib/python3.10/dist-packages (from requests->transformers) (3.10)\n",
            "Requirement already satisfied: urllib3<3,>=1.21.1 in /usr/local/lib/python3.10/dist-packages (from requests->transformers) (2.2.3)\n",
            "Requirement already satisfied: certifi>=2017.4.17 in /usr/local/lib/python3.10/dist-packages (from requests->transformers) (2024.8.30)\n",
            "Downloading textstat-0.7.4-py3-none-any.whl (105 kB)\n",
            "\u001b[2K   \u001b[90m━━━━━━━━━━━━━━━━━━━━━━━━━━━━━━━━━━━━━━━━\u001b[0m \u001b[32m105.1/105.1 kB\u001b[0m \u001b[31m3.0 MB/s\u001b[0m eta \u001b[36m0:00:00\u001b[0m\n",
            "\u001b[?25hDownloading language_tool_python-2.8.1-py3-none-any.whl (35 kB)\n",
            "Downloading pyphen-0.17.0-py3-none-any.whl (2.1 MB)\n",
            "\u001b[2K   \u001b[90m━━━━━━━━━━━━━━━━━━━━━━━━━━━━━━━━━━━━━━━━\u001b[0m \u001b[32m2.1/2.1 MB\u001b[0m \u001b[31m4.4 MB/s\u001b[0m eta \u001b[36m0:00:00\u001b[0m\n",
            "\u001b[?25hInstalling collected packages: pyphen, textstat, language-tool-python\n",
            "Successfully installed language-tool-python-2.8.1 pyphen-0.17.0 textstat-0.7.4\n"
          ]
        }
      ]
    },
    {
      "cell_type": "code",
      "execution_count": 3,
      "metadata": {
        "colab": {
          "base_uri": "https://localhost:8080/"
        },
        "id": "Eh38_2aMHww6",
        "outputId": "2f84a25f-5c44-4457-e696-97426fa27ebf"
      },
      "outputs": [
        {
          "output_type": "stream",
          "name": "stdout",
          "text": [
            "Generated Article:\n",
            "\n",
            "How does climate change affect agriculture in various regions around the world? In this study, we examine changes to plant communities across an agroecosystem and find that most species of crop plants are not affected by climatic variability. Furthermore our results suggest a direct link between agricultural productivity (crop production) under increasing temperatures as well increase precipitation with increased temperature.\n",
            "This article is based on work published online at https://journals-plant-soil-technology-associates-publishing-online-reviewer .org\n",
            "MATERIALS AND METHODS\n",
            "\n",
            "Study area: China Agricultural Research Institute's Experimental Station for Plant Bioecology & Biology System 1 -China Agriculture University Extension Service Field sampling sites: Four fields were selected from three different locations within China's Northeast region during July 2014 through October 2015; each field was sampled once per year until May 2016 using two plots located approximately 30 m apart but close enough so they didnot overlap one another or interfere any further than 10 cm distance without overlapping their boundaries due only limited access. (Figure1). The research sites included four farmland areas designated A-I-2A-1B-3C-4D which contained rice paddy cultivation systems; namely grassland type soil types used here corresponded to: Typic C3 soils derived mainly after low rainfall seasoning treatments conducted over winter period 2012/2013) ( Figure2 ). \n",
            "Phenotypical analysis \n",
            "Vegetation composition along growing axis\n",
            "(a)\n",
            "Field A1-A3-B5-D7-F10-G12-N19-O21-P22-Q24-R25-S26-T27-W28-Z29-C30-K31-M32-E33-H34-J35-L36-X37-V38-Y39 Zootechnically similar crops such as: maize, (b), sorghum,\n",
            "Yields related factors including yield potential value YPDV = 1000 g kg -1 ; NPK ratio K : P i , T 2 k values 0:0:5:1:30:25:40:50:15:45:55:20:35-75%(g ha -2 )\n",
            "Soils characterization methods consisted of: bulk density method determined via air-dry sieving prior surface wetting tests according To AOAC Official Method C 4480-50-03:2013 [37] . (c), (d) \n",
            "Characterization traits associated with: root systems development ability RDA=Root Development Index (\n",
            "root length mm/dae Root diametermm/drae-Wear index percent WDRR=100*((0-5)) /100 ((0-1))\n",
            "Fine roots percentage FRP=1000 x 100 + 50 % ( (1-1\n",
            "Performance Metrics:\n",
            "\n",
            "Grammar Errors: 19\n",
            "Readability Score: 8.64\n",
            "Word Count: 308\n",
            "Perplexity: 31.172924041748047\n"
          ]
        }
      ],
      "source": [
        "from transformers import AutoModelForCausalLM, AutoTokenizer\n",
        "import torch\n",
        "\n",
        "# Initialize the FALCON model and tokenizer\n",
        "model_name = \"bigscience/bloom-560m\"  # FALCON model for instruction-based generation\n",
        "model = AutoModelForCausalLM.from_pretrained(model_name)\n",
        "tokenizer = AutoTokenizer.from_pretrained(model_name)\n",
        "\n",
        "# Function to generate articles using FALCON with improved sampling techniques\n",
        "def generate_article(prompt, max_length=500, temperature=0.7, top_p=0.9, repetition_penalty=1.2):\n",
        "    inputs = tokenizer(prompt, return_tensors=\"pt\")\n",
        "    attention_mask = torch.ones_like(inputs['input_ids'])  # Set attention mask\n",
        "    outputs = model.generate(\n",
        "        inputs['input_ids'],\n",
        "        attention_mask=attention_mask,\n",
        "        max_length=max_length,\n",
        "        do_sample=True,\n",
        "        temperature=temperature,  # Adjusts creativity\n",
        "        top_p=top_p,  # Top-p sampling for more diversity\n",
        "        repetition_penalty=repetition_penalty,  # Penalizes repetition\n",
        "        num_return_sequences=3\n",
        "    )\n",
        "    article = tokenizer.decode(outputs[0], skip_special_tokens=True)\n",
        "    return article\n",
        "\n",
        "# Example usage\n",
        "prompt = \"How does climate change affect agriculture in various regions around the world?\"\n",
        "article = generate_article(prompt)\n",
        "\n",
        "print(\"Generated Article:\\n\")\n",
        "print(article)\n",
        "\n",
        "import language_tool_python\n",
        "import textstat\n",
        "\n",
        "# Initialize LanguageTool for grammar checking\n",
        "tool = language_tool_python.LanguageTool('en-US')\n",
        "\n",
        "# Performance Metric 1: Grammar Check\n",
        "def grammar_check(article):\n",
        "    matches = tool.check(article)\n",
        "    errors = len(matches)\n",
        "    return errors\n",
        "\n",
        "# Performance Metric 2: Readability Score\n",
        "def readability_score(article):\n",
        "    score = textstat.flesch_reading_ease(article)\n",
        "    return score\n",
        "\n",
        "# Performance Metric 3: Word Count\n",
        "def word_count(article):\n",
        "    words = article.split()\n",
        "    return len(words)\n",
        "\n",
        "# Performance Metric 4: Perplexity for FALCON\n",
        "def calculate_perplexity(article):\n",
        "    inputs = tokenizer(article, return_tensors=\"pt\")\n",
        "    outputs = model(**inputs, labels=inputs[\"input_ids\"])\n",
        "    loss = outputs.loss.item()\n",
        "    perplexity = torch.exp(torch.tensor(loss))\n",
        "    return perplexity.item()\n",
        "\n",
        "# Evaluate all metrics\n",
        "def evaluate_article(article):\n",
        "    errors = grammar_check(article)\n",
        "    readability = readability_score(article)\n",
        "    word_count_value = word_count(article)\n",
        "    perplexity_value = calculate_perplexity(article)\n",
        "\n",
        "    print(f\"Performance Metrics:\\n\")\n",
        "    print(f\"Grammar Errors: {errors}\")\n",
        "    print(f\"Readability Score: {readability}\")\n",
        "    print(f\"Word Count: {word_count_value}\")\n",
        "    print(f\"Perplexity: {perplexity_value}\")\n",
        "\n",
        "# Example usage\n",
        "evaluate_article(article)"
      ]
    }
  ]
}