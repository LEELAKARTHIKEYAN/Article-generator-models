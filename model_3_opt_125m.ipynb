{
  "nbformat": 4,
  "nbformat_minor": 0,
  "metadata": {
    "colab": {
      "provenance": [],
      "gpuType": "T4"
    },
    "kernelspec": {
      "name": "python3",
      "display_name": "Python 3"
    },
    "language_info": {
      "name": "python"
    },
    "accelerator": "GPU"
  },
  "cells": [
    {
      "cell_type": "markdown",
      "source": [
        "# **OPT-125m**"
      ],
      "metadata": {
        "id": "qbrRJ1IOT3-S"
      }
    },
    {
      "cell_type": "code",
      "execution_count": 1,
      "metadata": {
        "colab": {
          "base_uri": "https://localhost:8080/"
        },
        "id": "iRViingPRW8s",
        "outputId": "388cf894-2c33-4e61-e6cb-2d1cea18cb57"
      },
      "outputs": [
        {
          "output_type": "stream",
          "name": "stdout",
          "text": [
            "Requirement already satisfied: transformers in /usr/local/lib/python3.10/dist-packages (4.46.2)\n",
            "Requirement already satisfied: torch in /usr/local/lib/python3.10/dist-packages (2.5.1+cu121)\n",
            "Collecting textstat\n",
            "  Downloading textstat-0.7.4-py3-none-any.whl.metadata (14 kB)\n",
            "Collecting language-tool-python\n",
            "  Downloading language_tool_python-2.8.1-py3-none-any.whl.metadata (12 kB)\n",
            "Requirement already satisfied: filelock in /usr/local/lib/python3.10/dist-packages (from transformers) (3.16.1)\n",
            "Requirement already satisfied: huggingface-hub<1.0,>=0.23.2 in /usr/local/lib/python3.10/dist-packages (from transformers) (0.26.2)\n",
            "Requirement already satisfied: numpy>=1.17 in /usr/local/lib/python3.10/dist-packages (from transformers) (1.26.4)\n",
            "Requirement already satisfied: packaging>=20.0 in /usr/local/lib/python3.10/dist-packages (from transformers) (24.2)\n",
            "Requirement already satisfied: pyyaml>=5.1 in /usr/local/lib/python3.10/dist-packages (from transformers) (6.0.2)\n",
            "Requirement already satisfied: regex!=2019.12.17 in /usr/local/lib/python3.10/dist-packages (from transformers) (2024.9.11)\n",
            "Requirement already satisfied: requests in /usr/local/lib/python3.10/dist-packages (from transformers) (2.32.3)\n",
            "Requirement already satisfied: safetensors>=0.4.1 in /usr/local/lib/python3.10/dist-packages (from transformers) (0.4.5)\n",
            "Requirement already satisfied: tokenizers<0.21,>=0.20 in /usr/local/lib/python3.10/dist-packages (from transformers) (0.20.3)\n",
            "Requirement already satisfied: tqdm>=4.27 in /usr/local/lib/python3.10/dist-packages (from transformers) (4.66.6)\n",
            "Requirement already satisfied: typing-extensions>=4.8.0 in /usr/local/lib/python3.10/dist-packages (from torch) (4.12.2)\n",
            "Requirement already satisfied: networkx in /usr/local/lib/python3.10/dist-packages (from torch) (3.4.2)\n",
            "Requirement already satisfied: jinja2 in /usr/local/lib/python3.10/dist-packages (from torch) (3.1.4)\n",
            "Requirement already satisfied: fsspec in /usr/local/lib/python3.10/dist-packages (from torch) (2024.10.0)\n",
            "Requirement already satisfied: sympy==1.13.1 in /usr/local/lib/python3.10/dist-packages (from torch) (1.13.1)\n",
            "Requirement already satisfied: mpmath<1.4,>=1.1.0 in /usr/local/lib/python3.10/dist-packages (from sympy==1.13.1->torch) (1.3.0)\n",
            "Collecting pyphen (from textstat)\n",
            "  Downloading pyphen-0.17.0-py3-none-any.whl.metadata (3.2 kB)\n",
            "Requirement already satisfied: setuptools in /usr/local/lib/python3.10/dist-packages (from textstat) (75.1.0)\n",
            "Requirement already satisfied: pip in /usr/local/lib/python3.10/dist-packages (from language-tool-python) (24.1.2)\n",
            "Requirement already satisfied: wheel in /usr/local/lib/python3.10/dist-packages (from language-tool-python) (0.45.0)\n",
            "Requirement already satisfied: MarkupSafe>=2.0 in /usr/local/lib/python3.10/dist-packages (from jinja2->torch) (3.0.2)\n",
            "Requirement already satisfied: charset-normalizer<4,>=2 in /usr/local/lib/python3.10/dist-packages (from requests->transformers) (3.4.0)\n",
            "Requirement already satisfied: idna<4,>=2.5 in /usr/local/lib/python3.10/dist-packages (from requests->transformers) (3.10)\n",
            "Requirement already satisfied: urllib3<3,>=1.21.1 in /usr/local/lib/python3.10/dist-packages (from requests->transformers) (2.2.3)\n",
            "Requirement already satisfied: certifi>=2017.4.17 in /usr/local/lib/python3.10/dist-packages (from requests->transformers) (2024.8.30)\n",
            "Downloading textstat-0.7.4-py3-none-any.whl (105 kB)\n",
            "\u001b[2K   \u001b[90m━━━━━━━━━━━━━━━━━━━━━━━━━━━━━━━━━━━━━━━━\u001b[0m \u001b[32m105.1/105.1 kB\u001b[0m \u001b[31m8.1 MB/s\u001b[0m eta \u001b[36m0:00:00\u001b[0m\n",
            "\u001b[?25hDownloading language_tool_python-2.8.1-py3-none-any.whl (35 kB)\n",
            "Downloading pyphen-0.17.0-py3-none-any.whl (2.1 MB)\n",
            "\u001b[2K   \u001b[90m━━━━━━━━━━━━━━━━━━━━━━━━━━━━━━━━━━━━━━━━\u001b[0m \u001b[32m2.1/2.1 MB\u001b[0m \u001b[31m7.0 MB/s\u001b[0m eta \u001b[36m0:00:00\u001b[0m\n",
            "\u001b[?25hInstalling collected packages: pyphen, textstat, language-tool-python\n",
            "Successfully installed language-tool-python-2.8.1 pyphen-0.17.0 textstat-0.7.4\n"
          ]
        }
      ],
      "source": [
        "!pip install transformers torch textstat language-tool-python"
      ]
    },
    {
      "cell_type": "code",
      "source": [
        "from transformers import AutoModelForCausalLM, AutoTokenizer\n",
        "import torch\n",
        "\n",
        "# Initialize the FALCON model and tokenizer\n",
        "model_name = \"facebook/opt-125m\"  # FALCON model for instruction-based generation\n",
        "model = AutoModelForCausalLM.from_pretrained(model_name)\n",
        "tokenizer = AutoTokenizer.from_pretrained(model_name)\n",
        "\n",
        "# Function to generate articles using FALCON with improved sampling techniques\n",
        "def generate_article(prompt, max_length=500, temperature=0.7, top_p=0.9, repetition_penalty=1.2):\n",
        "    inputs = tokenizer(prompt, return_tensors=\"pt\")\n",
        "    attention_mask = torch.ones_like(inputs['input_ids'])  # Set attention mask\n",
        "    outputs = model.generate(\n",
        "        inputs['input_ids'],\n",
        "        attention_mask=attention_mask,\n",
        "        max_length=max_length,\n",
        "        do_sample=True,\n",
        "        temperature=temperature,  # Adjusts creativity\n",
        "        top_p=top_p,  # Top-p sampling for more diversity\n",
        "        repetition_penalty=repetition_penalty,  # Penalizes repetition\n",
        "        num_return_sequences=1\n",
        "    )\n",
        "    article = tokenizer.decode(outputs[0], skip_special_tokens=True)\n",
        "    return article\n",
        "\n",
        "# Example usage\n",
        "prompt = \"How does climate change affect agriculture in various regions around the world?\"\n",
        "article = generate_article(prompt)\n",
        "\n",
        "print(\"Generated Article:\\n\")\n",
        "print(article)\n",
        "\n",
        "import language_tool_python\n",
        "import textstat\n",
        "\n",
        "# Initialize LanguageTool for grammar checking\n",
        "tool = language_tool_python.LanguageTool('en-US')\n",
        "\n",
        "# Performance Metric 1: Grammar Check\n",
        "def grammar_check(article):\n",
        "    matches = tool.check(article)\n",
        "    errors = len(matches)\n",
        "    return errors\n",
        "\n",
        "# Performance Metric 2: Readability Score\n",
        "def readability_score(article):\n",
        "    score = textstat.flesch_reading_ease(article)\n",
        "    return score\n",
        "\n",
        "# Performance Metric 3: Word Count\n",
        "def word_count(article):\n",
        "    words = article.split()\n",
        "    return len(words)\n",
        "\n",
        "# Performance Metric 4: Perplexity for FALCON\n",
        "def calculate_perplexity(article):\n",
        "    inputs = tokenizer(article, return_tensors=\"pt\")\n",
        "    outputs = model(**inputs, labels=inputs[\"input_ids\"])\n",
        "    loss = outputs.loss.item()\n",
        "    perplexity = torch.exp(torch.tensor(loss))\n",
        "    return perplexity.item()\n",
        "\n",
        "# Evaluate all metrics\n",
        "def evaluate_article(article):\n",
        "    errors = grammar_check(article)\n",
        "    readability = readability_score(article)\n",
        "    word_count_value = word_count(article)\n",
        "    perplexity_value = calculate_perplexity(article)\n",
        "\n",
        "    print(f\"Performance Metrics:\\n\")\n",
        "    print(f\"Grammar Errors: {errors}\")\n",
        "    print(f\"Readability Score: {readability}\")\n",
        "    print(f\"Word Count: {word_count_value}\")\n",
        "    print(f\"Perplexity: {perplexity_value}\")\n",
        "\n",
        "# Example usage\n",
        "evaluate_article(article)"
      ],
      "metadata": {
        "colab": {
          "base_uri": "https://localhost:8080/"
        },
        "id": "U0BE0XP8RgP6",
        "outputId": "16d3dad1-d7ea-446a-a7d0-51c640054ec8"
      },
      "execution_count": 4,
      "outputs": [
        {
          "output_type": "stream",
          "name": "stdout",
          "text": [
            "Generated Article:\n",
            "\n",
            "How does climate change affect agriculture in various regions around the world?\n",
            "Climate change impacts agricultural production and farming in different regions of the globe. According to the UN's Food and Agriculture Organisation, more than 70% of all food crops are affected by global warming. The number of countries with the largest and most affected areas is China (31%), India (22%) and Russia (15%).\n",
            "In 2018, about 10 per cent of the total greenhouse gas emissions from agriculture were due to climate change. However, the amount of CO2 emitted in 2020 was lower than 2017, when it was about 20 per cent. Therefore, the rate at which CO2 is released by agriculture can be expected to increase as well.\n",
            "As a result, there has been a rise in water pollution and increased deforestation. There have also been increases in air pollution, land use, biodiversity loss, and degradation of ecosystems. The main drivers for this trend include:\n",
            "Increasing the amount of carbon dioxide from soil, where it can lead to higher levels of carbon dioxide. This is caused by overproduction of carbon dioxide. This is primarily driven by industrial activities like mining and processing of carbon dioxide. Carbon dioxide accumulates on farms and therefore causes an accumulation of pollutants that could lead to adverse health effects. In addition, the amount of methane produced is increasing.\n",
            "This means that land management needs to increase the amount of land available for the cultivation of agricultural produce. As such, farmers need to raise the amount of land they can grow at a sufficient pace. As a consequence, people must maintain good relationships with their livestock while caring for them, thus decreasing the risks of diseases or cancer. Farmers need to ensure that they eat properly, protect animals and keep the environment healthy.\n",
            "A recent study reported that more than one-third of households worldwide rely on farming to feed themselves and their families. To reduce these problems, the government should consider setting up a national minimum income scheme. For example, the National Minimum Income Scheme (NIMS) would provide a set of incentives and subsidies to farmers who farm with an average income of $50,000/year. Moreover, the National Agricultural Bank (NAB), through the National Economic Development Corporation (NEDC), could help farmers find suitable employment. In order to support these schemes, the National Rural Employment Guarantee Fund (NREGF), which supports rural poverty alleviation programmes, might help farmers get out of debt. The NERC would also help farmers access benefits offered\n",
            "Performance Metrics:\n",
            "\n",
            "Grammar Errors: 7\n",
            "Readability Score: 54.02\n",
            "Word Count: 413\n",
            "Perplexity: 7.6311821937561035\n"
          ]
        }
      ]
    }
  ]
}